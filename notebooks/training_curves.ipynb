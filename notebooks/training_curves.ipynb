{
 "cells": [
  {
   "cell_type": "markdown",
   "id": "a5d7a85d",
   "metadata": {},
   "source": [
    "## IHDP Training Demo\n",
    "This short notebook trains the baseline model on the IHDP dataset and plots the validation metric."
   ]
  },
  {
   "cell_type": "code",
   "execution_count": null,
   "id": "a6b2e05d",
   "metadata": {},
   "outputs": [],
   "source": [
    "from pathlib import Path\n",
    "from src.train import train\n",
    "train(Path.home() / '.cache/otxlearner/ihdp', epochs=3, log_dir='runs/demo')"
   ]
  },
  {
   "cell_type": "code",
   "execution_count": null,
   "id": "724286cb",
   "metadata": {},
   "outputs": [],
   "source": [
    "from tensorboard.backend.event_processing import event_accumulator\n",
    "from matplotlib import pyplot as plt\n",
    "\n",
    "ea = event_accumulator.EventAccumulator('runs/demo')\n",
    "ea.Reload()\n",
    "train_loss = ea.Scalars('train_loss')\n",
    "val_metric = ea.Scalars('val_PEHE_proxy')\n",
    "plt.plot([s.step for s in train_loss], [s.value for s in train_loss], label='train')\n",
    "plt.plot([s.step for s in val_metric], [s.value for s in val_metric], label='val')\n",
    "plt.xlabel('epoch')\n",
    "plt.ylabel('loss')\n",
    "plt.legend()\n",
    "plt.show()"
   ]
  }
 ],
 "metadata": {},
 "nbformat": 4,
 "nbformat_minor": 5
}
